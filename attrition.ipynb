{
 "cells": [
  {
   "cell_type": "markdown",
   "metadata": {
    "id": "alIIEHibGc3M"
   },
   "source": [
    "## Part 1: Preprocessing"
   ]
  },
  {
   "cell_type": "code",
   "execution_count": 2,
   "metadata": {
    "colab": {
     "base_uri": "https://localhost:8080/",
     "height": 325
    },
    "id": "6eDUJ4NtGc3P",
    "outputId": "940e3692-73f8-4aac-b654-6c566117e15b"
   },
   "outputs": [
    {
     "data": {
      "text/html": [
       "<div>\n",
       "<style scoped>\n",
       "    .dataframe tbody tr th:only-of-type {\n",
       "        vertical-align: middle;\n",
       "    }\n",
       "\n",
       "    .dataframe tbody tr th {\n",
       "        vertical-align: top;\n",
       "    }\n",
       "\n",
       "    .dataframe thead th {\n",
       "        text-align: right;\n",
       "    }\n",
       "</style>\n",
       "<table border=\"1\" class=\"dataframe\">\n",
       "  <thead>\n",
       "    <tr style=\"text-align: right;\">\n",
       "      <th></th>\n",
       "      <th>Age</th>\n",
       "      <th>Attrition</th>\n",
       "      <th>BusinessTravel</th>\n",
       "      <th>Department</th>\n",
       "      <th>DistanceFromHome</th>\n",
       "      <th>Education</th>\n",
       "      <th>EducationField</th>\n",
       "      <th>EnvironmentSatisfaction</th>\n",
       "      <th>HourlyRate</th>\n",
       "      <th>JobInvolvement</th>\n",
       "      <th>...</th>\n",
       "      <th>PerformanceRating</th>\n",
       "      <th>RelationshipSatisfaction</th>\n",
       "      <th>StockOptionLevel</th>\n",
       "      <th>TotalWorkingYears</th>\n",
       "      <th>TrainingTimesLastYear</th>\n",
       "      <th>WorkLifeBalance</th>\n",
       "      <th>YearsAtCompany</th>\n",
       "      <th>YearsInCurrentRole</th>\n",
       "      <th>YearsSinceLastPromotion</th>\n",
       "      <th>YearsWithCurrManager</th>\n",
       "    </tr>\n",
       "  </thead>\n",
       "  <tbody>\n",
       "    <tr>\n",
       "      <th>0</th>\n",
       "      <td>41</td>\n",
       "      <td>Yes</td>\n",
       "      <td>Travel_Rarely</td>\n",
       "      <td>Sales</td>\n",
       "      <td>1</td>\n",
       "      <td>2</td>\n",
       "      <td>Life Sciences</td>\n",
       "      <td>2</td>\n",
       "      <td>94</td>\n",
       "      <td>3</td>\n",
       "      <td>...</td>\n",
       "      <td>3</td>\n",
       "      <td>1</td>\n",
       "      <td>0</td>\n",
       "      <td>8</td>\n",
       "      <td>0</td>\n",
       "      <td>1</td>\n",
       "      <td>6</td>\n",
       "      <td>4</td>\n",
       "      <td>0</td>\n",
       "      <td>5</td>\n",
       "    </tr>\n",
       "    <tr>\n",
       "      <th>1</th>\n",
       "      <td>49</td>\n",
       "      <td>No</td>\n",
       "      <td>Travel_Frequently</td>\n",
       "      <td>Research &amp; Development</td>\n",
       "      <td>8</td>\n",
       "      <td>1</td>\n",
       "      <td>Life Sciences</td>\n",
       "      <td>3</td>\n",
       "      <td>61</td>\n",
       "      <td>2</td>\n",
       "      <td>...</td>\n",
       "      <td>4</td>\n",
       "      <td>4</td>\n",
       "      <td>1</td>\n",
       "      <td>10</td>\n",
       "      <td>3</td>\n",
       "      <td>3</td>\n",
       "      <td>10</td>\n",
       "      <td>7</td>\n",
       "      <td>1</td>\n",
       "      <td>7</td>\n",
       "    </tr>\n",
       "    <tr>\n",
       "      <th>2</th>\n",
       "      <td>37</td>\n",
       "      <td>Yes</td>\n",
       "      <td>Travel_Rarely</td>\n",
       "      <td>Research &amp; Development</td>\n",
       "      <td>2</td>\n",
       "      <td>2</td>\n",
       "      <td>Other</td>\n",
       "      <td>4</td>\n",
       "      <td>92</td>\n",
       "      <td>2</td>\n",
       "      <td>...</td>\n",
       "      <td>3</td>\n",
       "      <td>2</td>\n",
       "      <td>0</td>\n",
       "      <td>7</td>\n",
       "      <td>3</td>\n",
       "      <td>3</td>\n",
       "      <td>0</td>\n",
       "      <td>0</td>\n",
       "      <td>0</td>\n",
       "      <td>0</td>\n",
       "    </tr>\n",
       "    <tr>\n",
       "      <th>3</th>\n",
       "      <td>33</td>\n",
       "      <td>No</td>\n",
       "      <td>Travel_Frequently</td>\n",
       "      <td>Research &amp; Development</td>\n",
       "      <td>3</td>\n",
       "      <td>4</td>\n",
       "      <td>Life Sciences</td>\n",
       "      <td>4</td>\n",
       "      <td>56</td>\n",
       "      <td>3</td>\n",
       "      <td>...</td>\n",
       "      <td>3</td>\n",
       "      <td>3</td>\n",
       "      <td>0</td>\n",
       "      <td>8</td>\n",
       "      <td>3</td>\n",
       "      <td>3</td>\n",
       "      <td>8</td>\n",
       "      <td>7</td>\n",
       "      <td>3</td>\n",
       "      <td>0</td>\n",
       "    </tr>\n",
       "    <tr>\n",
       "      <th>4</th>\n",
       "      <td>27</td>\n",
       "      <td>No</td>\n",
       "      <td>Travel_Rarely</td>\n",
       "      <td>Research &amp; Development</td>\n",
       "      <td>2</td>\n",
       "      <td>1</td>\n",
       "      <td>Medical</td>\n",
       "      <td>1</td>\n",
       "      <td>40</td>\n",
       "      <td>3</td>\n",
       "      <td>...</td>\n",
       "      <td>3</td>\n",
       "      <td>4</td>\n",
       "      <td>1</td>\n",
       "      <td>6</td>\n",
       "      <td>3</td>\n",
       "      <td>3</td>\n",
       "      <td>2</td>\n",
       "      <td>2</td>\n",
       "      <td>2</td>\n",
       "      <td>2</td>\n",
       "    </tr>\n",
       "  </tbody>\n",
       "</table>\n",
       "<p>5 rows × 27 columns</p>\n",
       "</div>"
      ],
      "text/plain": [
       "   Age Attrition     BusinessTravel              Department  DistanceFromHome  \\\n",
       "0   41       Yes      Travel_Rarely                   Sales                 1   \n",
       "1   49        No  Travel_Frequently  Research & Development                 8   \n",
       "2   37       Yes      Travel_Rarely  Research & Development                 2   \n",
       "3   33        No  Travel_Frequently  Research & Development                 3   \n",
       "4   27        No      Travel_Rarely  Research & Development                 2   \n",
       "\n",
       "   Education EducationField  EnvironmentSatisfaction  HourlyRate  \\\n",
       "0          2  Life Sciences                        2          94   \n",
       "1          1  Life Sciences                        3          61   \n",
       "2          2          Other                        4          92   \n",
       "3          4  Life Sciences                        4          56   \n",
       "4          1        Medical                        1          40   \n",
       "\n",
       "   JobInvolvement  ...  PerformanceRating RelationshipSatisfaction  \\\n",
       "0               3  ...                  3                        1   \n",
       "1               2  ...                  4                        4   \n",
       "2               2  ...                  3                        2   \n",
       "3               3  ...                  3                        3   \n",
       "4               3  ...                  3                        4   \n",
       "\n",
       "   StockOptionLevel TotalWorkingYears  TrainingTimesLastYear WorkLifeBalance  \\\n",
       "0                 0                 8                      0               1   \n",
       "1                 1                10                      3               3   \n",
       "2                 0                 7                      3               3   \n",
       "3                 0                 8                      3               3   \n",
       "4                 1                 6                      3               3   \n",
       "\n",
       "   YearsAtCompany  YearsInCurrentRole  YearsSinceLastPromotion  \\\n",
       "0               6                   4                        0   \n",
       "1              10                   7                        1   \n",
       "2               0                   0                        0   \n",
       "3               8                   7                        3   \n",
       "4               2                   2                        2   \n",
       "\n",
       "   YearsWithCurrManager  \n",
       "0                     5  \n",
       "1                     7  \n",
       "2                     0  \n",
       "3                     0  \n",
       "4                     2  \n",
       "\n",
       "[5 rows x 27 columns]"
      ]
     },
     "execution_count": 2,
     "metadata": {},
     "output_type": "execute_result"
    }
   ],
   "source": [
    "# Import our dependencies\n",
    "from sklearn.model_selection import train_test_split\n",
    "from sklearn.preprocessing import StandardScaler\n",
    "from sklearn.preprocessing import OneHotEncoder\n",
    "from sklearn.metrics import accuracy_score\n",
    "import pandas as pd\n",
    "import numpy as np\n",
    "from tensorflow.keras.models import Model\n",
    "from tensorflow.keras import layers\n",
    "import tensorflow as tf\n",
    "from tensorflow.keras.layers import Dense\n",
    "\n",
    "#  Import and read the attrition data\n",
    "attrition_df = pd.read_csv('https://static.bc-edx.com/ai/ail-v-1-0/m19/lms/datasets/attrition.csv')\n",
    "attrition_df.head()"
   ]
  },
  {
   "cell_type": "code",
   "execution_count": 3,
   "metadata": {
    "colab": {
     "base_uri": "https://localhost:8080/"
    },
    "id": "g22aQSY4Gc3Q",
    "outputId": "79c4186f-8afb-4c8a-f169-c20fa19ba14f"
   },
   "outputs": [
    {
     "data": {
      "text/plain": [
       "Age                         43\n",
       "Attrition                    2\n",
       "BusinessTravel               3\n",
       "Department                   3\n",
       "DistanceFromHome            29\n",
       "Education                    5\n",
       "EducationField               6\n",
       "EnvironmentSatisfaction      4\n",
       "HourlyRate                  71\n",
       "JobInvolvement               4\n",
       "JobLevel                     5\n",
       "JobRole                      9\n",
       "JobSatisfaction              4\n",
       "MaritalStatus                3\n",
       "NumCompaniesWorked          10\n",
       "OverTime                     2\n",
       "PercentSalaryHike           15\n",
       "PerformanceRating            2\n",
       "RelationshipSatisfaction     4\n",
       "StockOptionLevel             4\n",
       "TotalWorkingYears           40\n",
       "TrainingTimesLastYear        7\n",
       "WorkLifeBalance              4\n",
       "YearsAtCompany              37\n",
       "YearsInCurrentRole          19\n",
       "YearsSinceLastPromotion     16\n",
       "YearsWithCurrManager        18\n",
       "dtype: int64"
      ]
     },
     "execution_count": 3,
     "metadata": {},
     "output_type": "execute_result"
    }
   ],
   "source": [
    "# Determine the number of unique values in each column.\n",
    "attrition_df.nunique()"
   ]
  },
  {
   "cell_type": "code",
   "execution_count": 4,
   "metadata": {
    "colab": {
     "base_uri": "https://localhost:8080/",
     "height": 206
    },
    "id": "50vMgBEnJbfM",
    "outputId": "c101edfe-ff1c-432a-ad6c-d13467eda6de"
   },
   "outputs": [
    {
     "data": {
      "text/html": [
       "<div>\n",
       "<style scoped>\n",
       "    .dataframe tbody tr th:only-of-type {\n",
       "        vertical-align: middle;\n",
       "    }\n",
       "\n",
       "    .dataframe tbody tr th {\n",
       "        vertical-align: top;\n",
       "    }\n",
       "\n",
       "    .dataframe thead th {\n",
       "        text-align: right;\n",
       "    }\n",
       "</style>\n",
       "<table border=\"1\" class=\"dataframe\">\n",
       "  <thead>\n",
       "    <tr style=\"text-align: right;\">\n",
       "      <th></th>\n",
       "      <th>Attrition</th>\n",
       "      <th>Department</th>\n",
       "    </tr>\n",
       "  </thead>\n",
       "  <tbody>\n",
       "    <tr>\n",
       "      <th>0</th>\n",
       "      <td>Yes</td>\n",
       "      <td>Sales</td>\n",
       "    </tr>\n",
       "    <tr>\n",
       "      <th>1</th>\n",
       "      <td>No</td>\n",
       "      <td>Research &amp; Development</td>\n",
       "    </tr>\n",
       "    <tr>\n",
       "      <th>2</th>\n",
       "      <td>Yes</td>\n",
       "      <td>Research &amp; Development</td>\n",
       "    </tr>\n",
       "    <tr>\n",
       "      <th>3</th>\n",
       "      <td>No</td>\n",
       "      <td>Research &amp; Development</td>\n",
       "    </tr>\n",
       "    <tr>\n",
       "      <th>4</th>\n",
       "      <td>No</td>\n",
       "      <td>Research &amp; Development</td>\n",
       "    </tr>\n",
       "  </tbody>\n",
       "</table>\n",
       "</div>"
      ],
      "text/plain": [
       "  Attrition              Department\n",
       "0       Yes                   Sales\n",
       "1        No  Research & Development\n",
       "2       Yes  Research & Development\n",
       "3        No  Research & Development\n",
       "4        No  Research & Development"
      ]
     },
     "execution_count": 4,
     "metadata": {},
     "output_type": "execute_result"
    }
   ],
   "source": [
    "# Create y_df with the Attrition and Department columns\n",
    "y_df = attrition_df[['Attrition', 'Department']]\n",
    "y_df.head(5)"
   ]
  },
  {
   "cell_type": "code",
   "execution_count": 5,
   "metadata": {
    "colab": {
     "base_uri": "https://localhost:8080/"
    },
    "id": "Virka0zLGc3R",
    "outputId": "b0a93030-baea-40c8-aa37-53a65845186b"
   },
   "outputs": [
    {
     "data": {
      "text/plain": [
       "Age                         int64\n",
       "DistanceFromHome            int64\n",
       "Education                   int64\n",
       "HourlyRate                  int64\n",
       "EnvironmentSatisfaction     int64\n",
       "JobLevel                    int64\n",
       "JobSatisfaction             int64\n",
       "JobInvolvement              int64\n",
       "PercentSalaryHike           int64\n",
       "PerformanceRating           int64\n",
       "RelationshipSatisfaction    int64\n",
       "YearsAtCompany              int64\n",
       "YearsInCurrentRole          int64\n",
       "YearsSinceLastPromotion     int64\n",
       "YearsWithCurrManager        int64\n",
       "dtype: object"
      ]
     },
     "execution_count": 5,
     "metadata": {},
     "output_type": "execute_result"
    }
   ],
   "source": [
    "# Create a list of at least 10 column names to use as X data\n",
    "X_columns = ['Age', 'DistanceFromHome', 'Education', 'HourlyRate', 'EnvironmentSatisfaction', 'JobLevel', 'JobSatisfaction', 'JobInvolvement', 'PercentSalaryHike', 'PerformanceRating', 'RelationshipSatisfaction', 'YearsAtCompany', 'YearsInCurrentRole', 'YearsSinceLastPromotion', 'YearsWithCurrManager']\n",
    "\n",
    "# Create X_df using your selected columns\n",
    "X_df = attrition_df[X_columns]\n",
    "X_df.head()\n",
    "\n",
    "# Show the data types for X_df\n",
    "X_df.dtypes"
   ]
  },
  {
   "cell_type": "code",
   "execution_count": 6,
   "metadata": {
    "colab": {
     "base_uri": "https://localhost:8080/"
    },
    "id": "KaJfdOGUMHMR",
    "outputId": "8a5ae8bf-f237-422e-fa8b-252cfdaa6a2c"
   },
   "outputs": [
    {
     "name": "stdout",
     "output_type": "stream",
     "text": [
      "(1102, 15)\n",
      "(368, 15)\n"
     ]
    }
   ],
   "source": [
    "# Split the data into training and testing sets\n",
    "X_train, X_test, y_train, y_test = train_test_split(X_df, y_df, random_state=1)\n",
    "\n",
    "# Create X_train and X_test using the selected columns\n",
    "X_train = X_train[X_columns]\n",
    "X_test = X_test[X_columns]\n",
    "\n",
    "# Show shape of training and testing sets\n",
    "print(X_train.shape)\n",
    "print(X_test.shape)"
   ]
  },
  {
   "cell_type": "code",
   "execution_count": 7,
   "metadata": {
    "id": "NYubUJqiLCSp"
   },
   "outputs": [],
   "source": [
    "# Convert your X data to numeric data types however you see fit\n",
    "# Add new code cells as necessary\n",
    "# Nothing to convert"
   ]
  },
  {
   "cell_type": "code",
   "execution_count": 8,
   "metadata": {
    "id": "EWA-aIA5Gc3T"
   },
   "outputs": [],
   "source": [
    "# Create a StandardScaler\n",
    "scaler = StandardScaler()\n",
    "\n",
    "# Fit the StandardScaler to the training data\n",
    "scaler.fit(X_train)\n",
    "\n",
    "# Scale the training and testing data\n",
    "X_train_scaled = scaler.transform(X_train)\n",
    "X_test_scaled = scaler.transform(X_test)"
   ]
  },
  {
   "cell_type": "code",
   "execution_count": 9,
   "metadata": {
    "id": "-z0Mky8vQSz4"
   },
   "outputs": [],
   "source": [
    "# Create a OneHotEncoder for the Department column\n",
    "ohe_dept = OneHotEncoder(sparse_output=False, drop='first')  # drop='first' to avoid dummy variable trap\n",
    "\n",
    "# Fit the encoder to the training data\n",
    "ohe_dept.fit_transform(attrition_df[['Department']])\n",
    "\n",
    "# Create two new variables by applying the encoder\n",
    "# to the training and testing data\n",
    "dept_encoded_train = ohe_dept.transform(y_train[['Department']])\n",
    "dept_encoded_test = ohe_dept.transform(y_test[['Department']])\n",
    "\n",
    "# Convert encoded data to DataFrames\n",
    "dept_encoded_train_df = pd.DataFrame(dept_encoded_train, columns=ohe_dept.get_feature_names_out(['Department']))\n",
    "dept_encoded_test_df = pd.DataFrame(dept_encoded_test, columns=ohe_dept.get_feature_names_out(['Department']))\n",
    "\n",
    "# Drop the original Department column and concatenate the new encoded columns\n",
    "y_train = y_train.drop(columns=['Department']).reset_index(drop=True)\n",
    "y_test = y_test.drop(columns=['Department']).reset_index(drop=True)\n",
    "y_train = pd.concat([y_train, dept_encoded_train_df], axis=1)\n",
    "y_test = pd.concat([y_test, dept_encoded_test_df], axis=1)"
   ]
  },
  {
   "cell_type": "code",
   "execution_count": 10,
   "metadata": {
    "id": "-G4DSpvFRrk4"
   },
   "outputs": [],
   "source": [
    "# Create a OneHotEncoder for the Attrition column\n",
    "ohe_attr = OneHotEncoder(sparse_output=False, drop='first')  # drop='first' to avoid dummy variable trap\n",
    "\n",
    "# Fit the encoder to the training data\n",
    "ohe_attr.fit_transform(attrition_df[['Attrition']])\n",
    "\n",
    "# Create two new variables by applying the encoder\n",
    "# to the training and testing data\n",
    "attr_encoded_train = ohe_attr.fit_transform(y_train[['Attrition']])\n",
    "attr_encoded_test = ohe_attr.fit_transform(y_test[['Attrition']])\n",
    "\n",
    "# Convert encoded data to DataFrames\n",
    "attr_encoded_train_df = pd.DataFrame(attr_encoded_train, columns=ohe_attr.get_feature_names_out(['Attrition']))\n",
    "attr_encoded_test_df = pd.DataFrame(attr_encoded_test, columns=ohe_attr.get_feature_names_out(['Attrition']))\n",
    "\n",
    "# Drop the original Attrition column and concatenate the new encoded columns\n",
    "y_train = y_train.drop(columns=['Attrition']).reset_index(drop=True)\n",
    "y_test = y_test.drop(columns=['Attrition']).reset_index(drop=True)\n",
    "y_train = pd.concat([y_train, attr_encoded_train_df], axis=1)\n",
    "y_test = pd.concat([y_test, attr_encoded_test_df], axis=1)"
   ]
  },
  {
   "cell_type": "code",
   "execution_count": 11,
   "metadata": {
    "colab": {
     "base_uri": "https://localhost:8080/"
    },
    "id": "1FdP1Scbas3L",
    "outputId": "df050d54-5157-4010-c107-f5eb6bde31f3"
   },
   "outputs": [
    {
     "name": "stdout",
     "output_type": "stream",
     "text": [
      "{0.0: 300, 1.0: 68}\n"
     ]
    }
   ],
   "source": [
    "unique, counts = np.unique(attr_encoded_test, return_counts=True)\n",
    "print(dict(zip(unique, counts)))"
   ]
  },
  {
   "cell_type": "code",
   "execution_count": 12,
   "metadata": {
    "colab": {
     "base_uri": "https://localhost:8080/",
     "height": 206
    },
    "id": "dUc8y5SM6Tgn",
    "outputId": "c0381601-dce2-4471-e0f4-7497398f808a"
   },
   "outputs": [
    {
     "data": {
      "text/html": [
       "<div>\n",
       "<style scoped>\n",
       "    .dataframe tbody tr th:only-of-type {\n",
       "        vertical-align: middle;\n",
       "    }\n",
       "\n",
       "    .dataframe tbody tr th {\n",
       "        vertical-align: top;\n",
       "    }\n",
       "\n",
       "    .dataframe thead th {\n",
       "        text-align: right;\n",
       "    }\n",
       "</style>\n",
       "<table border=\"1\" class=\"dataframe\">\n",
       "  <thead>\n",
       "    <tr style=\"text-align: right;\">\n",
       "      <th></th>\n",
       "      <th>Department_Research &amp; Development</th>\n",
       "      <th>Department_Sales</th>\n",
       "      <th>Attrition_Yes</th>\n",
       "    </tr>\n",
       "  </thead>\n",
       "  <tbody>\n",
       "    <tr>\n",
       "      <th>0</th>\n",
       "      <td>1.0</td>\n",
       "      <td>0.0</td>\n",
       "      <td>0.0</td>\n",
       "    </tr>\n",
       "    <tr>\n",
       "      <th>1</th>\n",
       "      <td>1.0</td>\n",
       "      <td>0.0</td>\n",
       "      <td>0.0</td>\n",
       "    </tr>\n",
       "    <tr>\n",
       "      <th>2</th>\n",
       "      <td>0.0</td>\n",
       "      <td>1.0</td>\n",
       "      <td>1.0</td>\n",
       "    </tr>\n",
       "    <tr>\n",
       "      <th>3</th>\n",
       "      <td>1.0</td>\n",
       "      <td>0.0</td>\n",
       "      <td>0.0</td>\n",
       "    </tr>\n",
       "    <tr>\n",
       "      <th>4</th>\n",
       "      <td>1.0</td>\n",
       "      <td>0.0</td>\n",
       "      <td>0.0</td>\n",
       "    </tr>\n",
       "  </tbody>\n",
       "</table>\n",
       "</div>"
      ],
      "text/plain": [
       "   Department_Research & Development  Department_Sales  Attrition_Yes\n",
       "0                                1.0               0.0            0.0\n",
       "1                                1.0               0.0            0.0\n",
       "2                                0.0               1.0            1.0\n",
       "3                                1.0               0.0            0.0\n",
       "4                                1.0               0.0            0.0"
      ]
     },
     "execution_count": 12,
     "metadata": {},
     "output_type": "execute_result"
    }
   ],
   "source": [
    "y_train.head()"
   ]
  },
  {
   "cell_type": "code",
   "execution_count": 13,
   "metadata": {
    "colab": {
     "base_uri": "https://localhost:8080/",
     "height": 206
    },
    "id": "ZkK8RYUV6UK2",
    "outputId": "55e199ab-3cda-468b-de10-5c14072756cf"
   },
   "outputs": [
    {
     "data": {
      "text/html": [
       "<div>\n",
       "<style scoped>\n",
       "    .dataframe tbody tr th:only-of-type {\n",
       "        vertical-align: middle;\n",
       "    }\n",
       "\n",
       "    .dataframe tbody tr th {\n",
       "        vertical-align: top;\n",
       "    }\n",
       "\n",
       "    .dataframe thead th {\n",
       "        text-align: right;\n",
       "    }\n",
       "</style>\n",
       "<table border=\"1\" class=\"dataframe\">\n",
       "  <thead>\n",
       "    <tr style=\"text-align: right;\">\n",
       "      <th></th>\n",
       "      <th>Department_Research &amp; Development</th>\n",
       "      <th>Department_Sales</th>\n",
       "      <th>Attrition_Yes</th>\n",
       "    </tr>\n",
       "  </thead>\n",
       "  <tbody>\n",
       "    <tr>\n",
       "      <th>0</th>\n",
       "      <td>1.0</td>\n",
       "      <td>0.0</td>\n",
       "      <td>1.0</td>\n",
       "    </tr>\n",
       "    <tr>\n",
       "      <th>1</th>\n",
       "      <td>0.0</td>\n",
       "      <td>1.0</td>\n",
       "      <td>1.0</td>\n",
       "    </tr>\n",
       "    <tr>\n",
       "      <th>2</th>\n",
       "      <td>1.0</td>\n",
       "      <td>0.0</td>\n",
       "      <td>1.0</td>\n",
       "    </tr>\n",
       "    <tr>\n",
       "      <th>3</th>\n",
       "      <td>0.0</td>\n",
       "      <td>1.0</td>\n",
       "      <td>0.0</td>\n",
       "    </tr>\n",
       "    <tr>\n",
       "      <th>4</th>\n",
       "      <td>1.0</td>\n",
       "      <td>0.0</td>\n",
       "      <td>0.0</td>\n",
       "    </tr>\n",
       "  </tbody>\n",
       "</table>\n",
       "</div>"
      ],
      "text/plain": [
       "   Department_Research & Development  Department_Sales  Attrition_Yes\n",
       "0                                1.0               0.0            1.0\n",
       "1                                0.0               1.0            1.0\n",
       "2                                1.0               0.0            1.0\n",
       "3                                0.0               1.0            0.0\n",
       "4                                1.0               0.0            0.0"
      ]
     },
     "execution_count": 13,
     "metadata": {},
     "output_type": "execute_result"
    }
   ],
   "source": [
    "y_test.head()"
   ]
  },
  {
   "cell_type": "markdown",
   "metadata": {
    "id": "ykNmu_WWGc3T"
   },
   "source": [
    "## Create, Compile, and Train the Model"
   ]
  },
  {
   "cell_type": "code",
   "execution_count": 14,
   "metadata": {
    "id": "WUptZqmSGc3T"
   },
   "outputs": [],
   "source": [
    "# Find the number of columns in the X training data\n",
    "input_nodes = len(X_df.columns)\n",
    "\n",
    "# Create the input layer\n",
    "input_layer = tf.keras.layers.Input(shape=(15,))\n",
    "\n",
    "# Create at least two shared layers\n",
    "shared1 = Dense(32, activation='relu')(input_layer)\n",
    "shared2 = Dense(16, activation='relu')(shared1)\n",
    "shared3 = Dense(8, activation='relu')(shared2)"
   ]
  },
  {
   "cell_type": "code",
   "execution_count": 15,
   "metadata": {
    "id": "JukjTm2yTEqd"
   },
   "outputs": [],
   "source": [
    "# Create a branch for Department\n",
    "# with a hidden layer and an output layer\n",
    "\n",
    "# Create the hidden layer\n",
    "branch1 = Dense(8, activation='relu')(shared3)\n",
    "\n",
    "# Create the output layer\n",
    "output1 = Dense(1, name='Department', activation='softmax')(branch1)"
   ]
  },
  {
   "cell_type": "code",
   "execution_count": 16,
   "metadata": {
    "id": "9OqhUiOJUBkR"
   },
   "outputs": [],
   "source": [
    "# Create a branch for Attrition\n",
    "# with a hidden layer and an output layer\n",
    "\n",
    "# Create the hidden layer\n",
    "branch2 = Dense(8, activation='relu')(branch1)\n",
    "\n",
    "# Create the output layer\n",
    "output2 = Dense(1, name='Attrition', activation='sigmoid')(branch2)"
   ]
  },
  {
   "cell_type": "code",
   "execution_count": 17,
   "metadata": {
    "colab": {
     "base_uri": "https://localhost:8080/"
    },
    "id": "twmuejdxGc3T",
    "outputId": "6a7d3bed-f0e4-46ba-d41d-705191a77c0e"
   },
   "outputs": [
    {
     "name": "stdout",
     "output_type": "stream",
     "text": [
      "Model: \"model\"\n",
      "__________________________________________________________________________________________________\n",
      " Layer (type)                Output Shape                 Param #   Connected to                  \n",
      "==================================================================================================\n",
      " input_1 (InputLayer)        [(None, 15)]                 0         []                            \n",
      "                                                                                                  \n",
      " dense (Dense)               (None, 32)                   512       ['input_1[0][0]']             \n",
      "                                                                                                  \n",
      " dense_1 (Dense)             (None, 16)                   528       ['dense[0][0]']               \n",
      "                                                                                                  \n",
      " dense_2 (Dense)             (None, 8)                    136       ['dense_1[0][0]']             \n",
      "                                                                                                  \n",
      " dense_3 (Dense)             (None, 8)                    72        ['dense_2[0][0]']             \n",
      "                                                                                                  \n",
      " dense_4 (Dense)             (None, 8)                    72        ['dense_3[0][0]']             \n",
      "                                                                                                  \n",
      " Department (Dense)          (None, 1)                    9         ['dense_3[0][0]']             \n",
      "                                                                                                  \n",
      " Attrition (Dense)           (None, 1)                    9         ['dense_4[0][0]']             \n",
      "                                                                                                  \n",
      "==================================================================================================\n",
      "Total params: 1338 (5.23 KB)\n",
      "Trainable params: 1338 (5.23 KB)\n",
      "Non-trainable params: 0 (0.00 Byte)\n",
      "__________________________________________________________________________________________________\n"
     ]
    }
   ],
   "source": [
    "# Create the model\n",
    "model = Model(inputs=input_layer, outputs=[output1, output2])\n",
    "\n",
    "# Compile the model\n",
    "model.compile(optimizer='adam',\n",
    "              loss='mse',\n",
    "              metrics={'Department': 'accuracy', 'Attrition': 'accuracy'})\n",
    "\n",
    "# Summarize the model\n",
    "model.summary()"
   ]
  },
  {
   "cell_type": "code",
   "execution_count": 18,
   "metadata": {
    "colab": {
     "base_uri": "https://localhost:8080/"
    },
    "id": "c8oGy0dpGc3U",
    "outputId": "59be9207-0969-4338-b31c-b9a5381172fd"
   },
   "outputs": [
    {
     "name": "stdout",
     "output_type": "stream",
     "text": [
      "Epoch 1/50\n",
      "111/111 [==============================] - 0s 2ms/step - loss: 0.6836 - Department_loss: 0.5210 - Attrition_loss: 0.1626 - Department_accuracy: 0.4790 - Attrition_accuracy: 0.8513 - val_loss: 0.6710 - val_Department_loss: 0.5271 - val_Attrition_loss: 0.1439 - val_Department_accuracy: 0.4729 - val_Attrition_accuracy: 0.8281\n",
      "Epoch 2/50\n",
      "111/111 [==============================] - 0s 742us/step - loss: 0.6430 - Department_loss: 0.5210 - Attrition_loss: 0.1220 - Department_accuracy: 0.4790 - Attrition_accuracy: 0.8513 - val_loss: 0.6668 - val_Department_loss: 0.5271 - val_Attrition_loss: 0.1397 - val_Department_accuracy: 0.4729 - val_Attrition_accuracy: 0.8281\n",
      "Epoch 3/50\n",
      "111/111 [==============================] - 0s 696us/step - loss: 0.6379 - Department_loss: 0.5210 - Attrition_loss: 0.1169 - Department_accuracy: 0.4790 - Attrition_accuracy: 0.8513 - val_loss: 0.6643 - val_Department_loss: 0.5271 - val_Attrition_loss: 0.1372 - val_Department_accuracy: 0.4729 - val_Attrition_accuracy: 0.8281\n",
      "Epoch 4/50\n",
      "111/111 [==============================] - 0s 684us/step - loss: 0.6344 - Department_loss: 0.5210 - Attrition_loss: 0.1134 - Department_accuracy: 0.4790 - Attrition_accuracy: 0.8513 - val_loss: 0.6637 - val_Department_loss: 0.5271 - val_Attrition_loss: 0.1366 - val_Department_accuracy: 0.4729 - val_Attrition_accuracy: 0.8281\n",
      "Epoch 5/50\n",
      "111/111 [==============================] - 0s 760us/step - loss: 0.6313 - Department_loss: 0.5210 - Attrition_loss: 0.1103 - Department_accuracy: 0.4790 - Attrition_accuracy: 0.8513 - val_loss: 0.6645 - val_Department_loss: 0.5271 - val_Attrition_loss: 0.1374 - val_Department_accuracy: 0.4729 - val_Attrition_accuracy: 0.8281\n",
      "Epoch 6/50\n",
      "111/111 [==============================] - 0s 718us/step - loss: 0.6289 - Department_loss: 0.5210 - Attrition_loss: 0.1079 - Department_accuracy: 0.4790 - Attrition_accuracy: 0.8513 - val_loss: 0.6642 - val_Department_loss: 0.5271 - val_Attrition_loss: 0.1371 - val_Department_accuracy: 0.4729 - val_Attrition_accuracy: 0.8281\n",
      "Epoch 7/50\n",
      "111/111 [==============================] - 0s 990us/step - loss: 0.6269 - Department_loss: 0.5210 - Attrition_loss: 0.1059 - Department_accuracy: 0.4790 - Attrition_accuracy: 0.8513 - val_loss: 0.6662 - val_Department_loss: 0.5271 - val_Attrition_loss: 0.1390 - val_Department_accuracy: 0.4729 - val_Attrition_accuracy: 0.8281\n",
      "Epoch 8/50\n",
      "111/111 [==============================] - 0s 683us/step - loss: 0.6244 - Department_loss: 0.5210 - Attrition_loss: 0.1034 - Department_accuracy: 0.4790 - Attrition_accuracy: 0.8513 - val_loss: 0.6664 - val_Department_loss: 0.5271 - val_Attrition_loss: 0.1392 - val_Department_accuracy: 0.4729 - val_Attrition_accuracy: 0.8281\n",
      "Epoch 9/50\n",
      "111/111 [==============================] - 0s 690us/step - loss: 0.6229 - Department_loss: 0.5210 - Attrition_loss: 0.1019 - Department_accuracy: 0.4790 - Attrition_accuracy: 0.8558 - val_loss: 0.6679 - val_Department_loss: 0.5271 - val_Attrition_loss: 0.1408 - val_Department_accuracy: 0.4729 - val_Attrition_accuracy: 0.8281\n",
      "Epoch 10/50\n",
      "111/111 [==============================] - 0s 676us/step - loss: 0.6198 - Department_loss: 0.5210 - Attrition_loss: 0.0988 - Department_accuracy: 0.4790 - Attrition_accuracy: 0.8751 - val_loss: 0.6682 - val_Department_loss: 0.5271 - val_Attrition_loss: 0.1411 - val_Department_accuracy: 0.4729 - val_Attrition_accuracy: 0.8235\n",
      "Epoch 11/50\n",
      "111/111 [==============================] - 0s 661us/step - loss: 0.6182 - Department_loss: 0.5210 - Attrition_loss: 0.0972 - Department_accuracy: 0.4790 - Attrition_accuracy: 0.8740 - val_loss: 0.6703 - val_Department_loss: 0.5271 - val_Attrition_loss: 0.1431 - val_Department_accuracy: 0.4729 - val_Attrition_accuracy: 0.8145\n",
      "Epoch 12/50\n",
      "111/111 [==============================] - 0s 665us/step - loss: 0.6142 - Department_loss: 0.5210 - Attrition_loss: 0.0932 - Department_accuracy: 0.4790 - Attrition_accuracy: 0.8854 - val_loss: 0.6718 - val_Department_loss: 0.5271 - val_Attrition_loss: 0.1447 - val_Department_accuracy: 0.4729 - val_Attrition_accuracy: 0.8145\n",
      "Epoch 13/50\n",
      "111/111 [==============================] - 0s 686us/step - loss: 0.6117 - Department_loss: 0.5210 - Attrition_loss: 0.0907 - Department_accuracy: 0.4790 - Attrition_accuracy: 0.8888 - val_loss: 0.6736 - val_Department_loss: 0.5271 - val_Attrition_loss: 0.1465 - val_Department_accuracy: 0.4729 - val_Attrition_accuracy: 0.8145\n",
      "Epoch 14/50\n",
      "111/111 [==============================] - 0s 737us/step - loss: 0.6082 - Department_loss: 0.5210 - Attrition_loss: 0.0872 - Department_accuracy: 0.4790 - Attrition_accuracy: 0.8956 - val_loss: 0.6753 - val_Department_loss: 0.5271 - val_Attrition_loss: 0.1481 - val_Department_accuracy: 0.4729 - val_Attrition_accuracy: 0.8100\n",
      "Epoch 15/50\n",
      "111/111 [==============================] - 0s 767us/step - loss: 0.6062 - Department_loss: 0.5210 - Attrition_loss: 0.0852 - Department_accuracy: 0.4790 - Attrition_accuracy: 0.8956 - val_loss: 0.6812 - val_Department_loss: 0.5271 - val_Attrition_loss: 0.1541 - val_Department_accuracy: 0.4729 - val_Attrition_accuracy: 0.7919\n",
      "Epoch 16/50\n",
      "111/111 [==============================] - 0s 677us/step - loss: 0.6014 - Department_loss: 0.5210 - Attrition_loss: 0.0804 - Department_accuracy: 0.4790 - Attrition_accuracy: 0.9012 - val_loss: 0.6803 - val_Department_loss: 0.5271 - val_Attrition_loss: 0.1531 - val_Department_accuracy: 0.4729 - val_Attrition_accuracy: 0.7964\n",
      "Epoch 17/50\n",
      "111/111 [==============================] - 0s 631us/step - loss: 0.5978 - Department_loss: 0.5210 - Attrition_loss: 0.0768 - Department_accuracy: 0.4790 - Attrition_accuracy: 0.9081 - val_loss: 0.6863 - val_Department_loss: 0.5271 - val_Attrition_loss: 0.1592 - val_Department_accuracy: 0.4729 - val_Attrition_accuracy: 0.7692\n",
      "Epoch 18/50\n",
      "111/111 [==============================] - 0s 642us/step - loss: 0.5957 - Department_loss: 0.5210 - Attrition_loss: 0.0747 - Department_accuracy: 0.4790 - Attrition_accuracy: 0.9126 - val_loss: 0.6844 - val_Department_loss: 0.5271 - val_Attrition_loss: 0.1573 - val_Department_accuracy: 0.4729 - val_Attrition_accuracy: 0.7828\n",
      "Epoch 19/50\n",
      "111/111 [==============================] - 0s 672us/step - loss: 0.5914 - Department_loss: 0.5210 - Attrition_loss: 0.0704 - Department_accuracy: 0.4790 - Attrition_accuracy: 0.9205 - val_loss: 0.6909 - val_Department_loss: 0.5271 - val_Attrition_loss: 0.1637 - val_Department_accuracy: 0.4729 - val_Attrition_accuracy: 0.7647\n",
      "Epoch 20/50\n",
      "111/111 [==============================] - 0s 704us/step - loss: 0.5913 - Department_loss: 0.5210 - Attrition_loss: 0.0703 - Department_accuracy: 0.4790 - Attrition_accuracy: 0.9240 - val_loss: 0.6853 - val_Department_loss: 0.5271 - val_Attrition_loss: 0.1581 - val_Department_accuracy: 0.4729 - val_Attrition_accuracy: 0.7964\n",
      "Epoch 21/50\n",
      "111/111 [==============================] - 0s 690us/step - loss: 0.5860 - Department_loss: 0.5210 - Attrition_loss: 0.0650 - Department_accuracy: 0.4790 - Attrition_accuracy: 0.9285 - val_loss: 0.6892 - val_Department_loss: 0.5271 - val_Attrition_loss: 0.1621 - val_Department_accuracy: 0.4729 - val_Attrition_accuracy: 0.7828\n",
      "Epoch 22/50\n",
      "111/111 [==============================] - 0s 821us/step - loss: 0.5837 - Department_loss: 0.5210 - Attrition_loss: 0.0627 - Department_accuracy: 0.4790 - Attrition_accuracy: 0.9262 - val_loss: 0.6957 - val_Department_loss: 0.5271 - val_Attrition_loss: 0.1685 - val_Department_accuracy: 0.4729 - val_Attrition_accuracy: 0.7738\n",
      "Epoch 23/50\n",
      "111/111 [==============================] - 0s 704us/step - loss: 0.5806 - Department_loss: 0.5210 - Attrition_loss: 0.0596 - Department_accuracy: 0.4790 - Attrition_accuracy: 0.9296 - val_loss: 0.6929 - val_Department_loss: 0.5271 - val_Attrition_loss: 0.1657 - val_Department_accuracy: 0.4729 - val_Attrition_accuracy: 0.7738\n",
      "Epoch 24/50\n",
      "111/111 [==============================] - 0s 686us/step - loss: 0.5807 - Department_loss: 0.5210 - Attrition_loss: 0.0597 - Department_accuracy: 0.4790 - Attrition_accuracy: 0.9285 - val_loss: 0.7028 - val_Department_loss: 0.5271 - val_Attrition_loss: 0.1756 - val_Department_accuracy: 0.4729 - val_Attrition_accuracy: 0.7602\n",
      "Epoch 25/50\n"
     ]
    },
    {
     "name": "stdout",
     "output_type": "stream",
     "text": [
      "111/111 [==============================] - 0s 763us/step - loss: 0.5763 - Department_loss: 0.5210 - Attrition_loss: 0.0553 - Department_accuracy: 0.4790 - Attrition_accuracy: 0.9387 - val_loss: 0.6956 - val_Department_loss: 0.5271 - val_Attrition_loss: 0.1685 - val_Department_accuracy: 0.4729 - val_Attrition_accuracy: 0.7919\n",
      "Epoch 26/50\n",
      "111/111 [==============================] - 0s 999us/step - loss: 0.5740 - Department_loss: 0.5210 - Attrition_loss: 0.0530 - Department_accuracy: 0.4790 - Attrition_accuracy: 0.9421 - val_loss: 0.6994 - val_Department_loss: 0.5271 - val_Attrition_loss: 0.1723 - val_Department_accuracy: 0.4729 - val_Attrition_accuracy: 0.7738\n",
      "Epoch 27/50\n",
      "111/111 [==============================] - 0s 872us/step - loss: 0.5713 - Department_loss: 0.5210 - Attrition_loss: 0.0503 - Department_accuracy: 0.4790 - Attrition_accuracy: 0.9432 - val_loss: 0.7050 - val_Department_loss: 0.5271 - val_Attrition_loss: 0.1778 - val_Department_accuracy: 0.4729 - val_Attrition_accuracy: 0.7738\n",
      "Epoch 28/50\n",
      "111/111 [==============================] - 0s 676us/step - loss: 0.5699 - Department_loss: 0.5210 - Attrition_loss: 0.0489 - Department_accuracy: 0.4790 - Attrition_accuracy: 0.9467 - val_loss: 0.7115 - val_Department_loss: 0.5271 - val_Attrition_loss: 0.1843 - val_Department_accuracy: 0.4729 - val_Attrition_accuracy: 0.7602\n",
      "Epoch 29/50\n",
      "111/111 [==============================] - 0s 720us/step - loss: 0.5684 - Department_loss: 0.5210 - Attrition_loss: 0.0474 - Department_accuracy: 0.4790 - Attrition_accuracy: 0.9432 - val_loss: 0.6935 - val_Department_loss: 0.5271 - val_Attrition_loss: 0.1663 - val_Department_accuracy: 0.4729 - val_Attrition_accuracy: 0.8145\n",
      "Epoch 30/50\n",
      "111/111 [==============================] - 0s 708us/step - loss: 0.5670 - Department_loss: 0.5210 - Attrition_loss: 0.0460 - Department_accuracy: 0.4790 - Attrition_accuracy: 0.9512 - val_loss: 0.7048 - val_Department_loss: 0.5271 - val_Attrition_loss: 0.1777 - val_Department_accuracy: 0.4729 - val_Attrition_accuracy: 0.7828\n",
      "Epoch 31/50\n",
      "111/111 [==============================] - 0s 694us/step - loss: 0.5649 - Department_loss: 0.5210 - Attrition_loss: 0.0439 - Department_accuracy: 0.4790 - Attrition_accuracy: 0.9535 - val_loss: 0.7096 - val_Department_loss: 0.5271 - val_Attrition_loss: 0.1824 - val_Department_accuracy: 0.4729 - val_Attrition_accuracy: 0.7873\n",
      "Epoch 32/50\n",
      "111/111 [==============================] - 0s 659us/step - loss: 0.5626 - Department_loss: 0.5210 - Attrition_loss: 0.0416 - Department_accuracy: 0.4790 - Attrition_accuracy: 0.9569 - val_loss: 0.7192 - val_Department_loss: 0.5271 - val_Attrition_loss: 0.1920 - val_Department_accuracy: 0.4729 - val_Attrition_accuracy: 0.7421\n",
      "Epoch 33/50\n",
      "111/111 [==============================] - 0s 675us/step - loss: 0.5749 - Department_loss: 0.5210 - Attrition_loss: 0.0539 - Department_accuracy: 0.4790 - Attrition_accuracy: 0.9387 - val_loss: 0.7275 - val_Department_loss: 0.5271 - val_Attrition_loss: 0.2003 - val_Department_accuracy: 0.4729 - val_Attrition_accuracy: 0.7285\n",
      "Epoch 34/50\n",
      "111/111 [==============================] - 0s 692us/step - loss: 0.5621 - Department_loss: 0.5210 - Attrition_loss: 0.0411 - Department_accuracy: 0.4790 - Attrition_accuracy: 0.9557 - val_loss: 0.7164 - val_Department_loss: 0.5271 - val_Attrition_loss: 0.1893 - val_Department_accuracy: 0.4729 - val_Attrition_accuracy: 0.7557\n",
      "Epoch 35/50\n",
      "111/111 [==============================] - 0s 711us/step - loss: 0.5583 - Department_loss: 0.5210 - Attrition_loss: 0.0373 - Department_accuracy: 0.4790 - Attrition_accuracy: 0.9637 - val_loss: 0.7228 - val_Department_loss: 0.5271 - val_Attrition_loss: 0.1957 - val_Department_accuracy: 0.4729 - val_Attrition_accuracy: 0.7511\n",
      "Epoch 36/50\n",
      "111/111 [==============================] - 0s 692us/step - loss: 0.5585 - Department_loss: 0.5210 - Attrition_loss: 0.0375 - Department_accuracy: 0.4790 - Attrition_accuracy: 0.9637 - val_loss: 0.7167 - val_Department_loss: 0.5271 - val_Attrition_loss: 0.1896 - val_Department_accuracy: 0.4729 - val_Attrition_accuracy: 0.7692\n",
      "Epoch 37/50\n",
      "111/111 [==============================] - 0s 711us/step - loss: 0.5556 - Department_loss: 0.5210 - Attrition_loss: 0.0346 - Department_accuracy: 0.4790 - Attrition_accuracy: 0.9671 - val_loss: 0.7182 - val_Department_loss: 0.5271 - val_Attrition_loss: 0.1911 - val_Department_accuracy: 0.4729 - val_Attrition_accuracy: 0.7738\n",
      "Epoch 38/50\n",
      "111/111 [==============================] - 0s 717us/step - loss: 0.5542 - Department_loss: 0.5210 - Attrition_loss: 0.0332 - Department_accuracy: 0.4790 - Attrition_accuracy: 0.9671 - val_loss: 0.7326 - val_Department_loss: 0.5271 - val_Attrition_loss: 0.2055 - val_Department_accuracy: 0.4729 - val_Attrition_accuracy: 0.7466\n",
      "Epoch 39/50\n",
      "111/111 [==============================] - 0s 665us/step - loss: 0.5548 - Department_loss: 0.5210 - Attrition_loss: 0.0338 - Department_accuracy: 0.4790 - Attrition_accuracy: 0.9659 - val_loss: 0.7192 - val_Department_loss: 0.5271 - val_Attrition_loss: 0.1920 - val_Department_accuracy: 0.4729 - val_Attrition_accuracy: 0.7783\n",
      "Epoch 40/50\n",
      "111/111 [==============================] - 0s 717us/step - loss: 0.5538 - Department_loss: 0.5210 - Attrition_loss: 0.0328 - Department_accuracy: 0.4790 - Attrition_accuracy: 0.9705 - val_loss: 0.7193 - val_Department_loss: 0.5271 - val_Attrition_loss: 0.1921 - val_Department_accuracy: 0.4729 - val_Attrition_accuracy: 0.7738\n",
      "Epoch 41/50\n",
      "111/111 [==============================] - 0s 713us/step - loss: 0.5521 - Department_loss: 0.5210 - Attrition_loss: 0.0311 - Department_accuracy: 0.4790 - Attrition_accuracy: 0.9705 - val_loss: 0.7234 - val_Department_loss: 0.5271 - val_Attrition_loss: 0.1963 - val_Department_accuracy: 0.4729 - val_Attrition_accuracy: 0.7692\n",
      "Epoch 42/50\n",
      "111/111 [==============================] - 0s 683us/step - loss: 0.5521 - Department_loss: 0.5210 - Attrition_loss: 0.0311 - Department_accuracy: 0.4790 - Attrition_accuracy: 0.9705 - val_loss: 0.7166 - val_Department_loss: 0.5271 - val_Attrition_loss: 0.1895 - val_Department_accuracy: 0.4729 - val_Attrition_accuracy: 0.7783\n",
      "Epoch 43/50\n",
      "111/111 [==============================] - 0s 688us/step - loss: 0.5508 - Department_loss: 0.5210 - Attrition_loss: 0.0298 - Department_accuracy: 0.4790 - Attrition_accuracy: 0.9716 - val_loss: 0.7300 - val_Department_loss: 0.5271 - val_Attrition_loss: 0.2029 - val_Department_accuracy: 0.4729 - val_Attrition_accuracy: 0.7647\n",
      "Epoch 44/50\n",
      "111/111 [==============================] - 0s 691us/step - loss: 0.5505 - Department_loss: 0.5210 - Attrition_loss: 0.0295 - Department_accuracy: 0.4790 - Attrition_accuracy: 0.9716 - val_loss: 0.7221 - val_Department_loss: 0.5271 - val_Attrition_loss: 0.1950 - val_Department_accuracy: 0.4729 - val_Attrition_accuracy: 0.7738\n",
      "Epoch 45/50\n",
      "111/111 [==============================] - 0s 745us/step - loss: 0.5517 - Department_loss: 0.5210 - Attrition_loss: 0.0307 - Department_accuracy: 0.4790 - Attrition_accuracy: 0.9682 - val_loss: 0.7170 - val_Department_loss: 0.5271 - val_Attrition_loss: 0.1899 - val_Department_accuracy: 0.4729 - val_Attrition_accuracy: 0.7873\n",
      "Epoch 46/50\n",
      "111/111 [==============================] - 0s 729us/step - loss: 0.5501 - Department_loss: 0.5210 - Attrition_loss: 0.0291 - Department_accuracy: 0.4790 - Attrition_accuracy: 0.9716 - val_loss: 0.7102 - val_Department_loss: 0.5271 - val_Attrition_loss: 0.1830 - val_Department_accuracy: 0.4729 - val_Attrition_accuracy: 0.7919\n",
      "Epoch 47/50\n",
      "111/111 [==============================] - 0s 704us/step - loss: 0.5513 - Department_loss: 0.5210 - Attrition_loss: 0.0303 - Department_accuracy: 0.4790 - Attrition_accuracy: 0.9716 - val_loss: 0.7223 - val_Department_loss: 0.5271 - val_Attrition_loss: 0.1951 - val_Department_accuracy: 0.4729 - val_Attrition_accuracy: 0.7828\n",
      "Epoch 48/50\n",
      "111/111 [==============================] - 0s 686us/step - loss: 0.5487 - Department_loss: 0.5210 - Attrition_loss: 0.0277 - Department_accuracy: 0.4790 - Attrition_accuracy: 0.9728 - val_loss: 0.7213 - val_Department_loss: 0.5271 - val_Attrition_loss: 0.1941 - val_Department_accuracy: 0.4729 - val_Attrition_accuracy: 0.7919\n",
      "Epoch 49/50\n"
     ]
    },
    {
     "name": "stdout",
     "output_type": "stream",
     "text": [
      "111/111 [==============================] - 0s 707us/step - loss: 0.5517 - Department_loss: 0.5210 - Attrition_loss: 0.0307 - Department_accuracy: 0.4790 - Attrition_accuracy: 0.9682 - val_loss: 0.7148 - val_Department_loss: 0.5271 - val_Attrition_loss: 0.1876 - val_Department_accuracy: 0.4729 - val_Attrition_accuracy: 0.7919\n",
      "Epoch 50/50\n",
      "111/111 [==============================] - 0s 683us/step - loss: 0.5534 - Department_loss: 0.5210 - Attrition_loss: 0.0324 - Department_accuracy: 0.4790 - Attrition_accuracy: 0.9671 - val_loss: 0.7249 - val_Department_loss: 0.5271 - val_Attrition_loss: 0.1978 - val_Department_accuracy: 0.4729 - val_Attrition_accuracy: 0.7873\n"
     ]
    },
    {
     "data": {
      "text/plain": [
       "<keras.src.callbacks.History at 0x1076ca1c0>"
      ]
     },
     "execution_count": 18,
     "metadata": {},
     "output_type": "execute_result"
    }
   ],
   "source": [
    "# Train the model\n",
    "model.fit(X_train_scaled, [dept_encoded_train, attr_encoded_train], epochs=50, batch_size=8, validation_split=0.2)"
   ]
  },
  {
   "cell_type": "code",
   "execution_count": 19,
   "metadata": {
    "colab": {
     "base_uri": "https://localhost:8080/"
    },
    "id": "VsMoaQlgGc3U",
    "outputId": "e4dfe5b5-5bbf-4471-81ef-ed4e2e3fdb65"
   },
   "outputs": [
    {
     "name": "stdout",
     "output_type": "stream",
     "text": [
      "12/12 [==============================] - 0s 716us/step - loss: 0.7187 - Department_loss: 0.5190 - Attrition_loss: 0.1997 - Department_accuracy: 0.4810 - Attrition_accuracy: 0.7772\n"
     ]
    },
    {
     "data": {
      "text/plain": [
       "[0.7186928391456604,\n",
       " 0.51902174949646,\n",
       " 0.19967111945152283,\n",
       " 0.48097825050354004,\n",
       " 0.7771739363670349]"
      ]
     },
     "execution_count": 19,
     "metadata": {},
     "output_type": "execute_result"
    }
   ],
   "source": [
    "# Evaluate the model with the testing data\n",
    "test_results = model.evaluate(X_test_scaled, {'Department': dept_encoded_test, 'Attrition': attr_encoded_test})\n",
    "test_results"
   ]
  },
  {
   "cell_type": "code",
   "execution_count": 20,
   "metadata": {
    "colab": {
     "base_uri": "https://localhost:8080/"
    },
    "id": "ZlCtlHi0Vt54",
    "outputId": "ae00c736-bccb-4620-e463-21267dbce2b2"
   },
   "outputs": [
    {
     "name": "stdout",
     "output_type": "stream",
     "text": [
      "Department: 0.48097825050354004\n",
      "Attrition: 0.7771739363670349\n"
     ]
    }
   ],
   "source": [
    "# Print the accuracy for both department and attrition\n",
    "print(f\"Department: {test_results[3]}\")\n",
    "print(f\"Attrition: {test_results[4]}\")"
   ]
  },
  {
   "cell_type": "markdown",
   "metadata": {
    "id": "eGSyfsZfWOQM"
   },
   "source": [
    "# Summary\n",
    "\n",
    "In the provided space below, briefly answer the following questions.\n",
    "\n",
    "1. Is accuracy the best metric to use on this data? Why or why not?\n",
    "\n",
    "2. What activation functions did you choose for your output layers, and why?\n",
    "\n",
    "3. Can you name a few ways that this model might be improved?"
   ]
  },
  {
   "cell_type": "markdown",
   "metadata": {
    "id": "pi9SLpFnWvbF"
   },
   "source": [
    "YOUR ANSWERS HERE\n",
    "\n",
    "1. No, the data is imbalanced. Accuracy works well when the dataset is balanced. However, with this data, Balanced Accuracy would be a better metric as it ensures each class is equally weighted and prevents dominance of the majority class.\n",
    "2. I used sigmoid for attrition and softmax for department. Sigmoid is best for binary classification problems such as the attrition outcomes of yes or no. Softmax is best when outcomes are mutually exclusive and will output a probability distribution across the three departments in this data of R&D, Sales, or HR. This type of problem is a multi-class classification problem where softmax is better suited.\n",
    "3. The model could be potentially improved with more data, balanced data, or feature engineering."
   ]
  }
 ],
 "metadata": {
  "colab": {
   "provenance": []
  },
  "kernelspec": {
   "display_name": "Python 3 (ipykernel)",
   "language": "python",
   "name": "python3"
  },
  "language_info": {
   "codemirror_mode": {
    "name": "ipython",
    "version": 3
   },
   "file_extension": ".py",
   "mimetype": "text/x-python",
   "name": "python",
   "nbconvert_exporter": "python",
   "pygments_lexer": "ipython3",
   "version": "3.8.18"
  },
  "vscode": {
   "interpreter": {
    "hash": "31f2aee4e71d21fbe5cf8b01ff0e069b9275f58929596ceb00d14d90e3e16cd6"
   }
  }
 },
 "nbformat": 4,
 "nbformat_minor": 1
}
